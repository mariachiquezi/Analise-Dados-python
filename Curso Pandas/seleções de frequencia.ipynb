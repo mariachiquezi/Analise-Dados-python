{
 "cells": [
  {
   "cell_type": "markdown",
   "id": "74ac7068",
   "metadata": {},
   "source": [
    "# Relatorio de analise"
   ]
  },
  {
   "cell_type": "markdown",
   "id": "baa4b1fb",
   "metadata": {},
   "source": [
    "## seleções e frequencias"
   ]
  },
  {
   "cell_type": "code",
   "execution_count": 41,
   "id": "076a8cbe",
   "metadata": {},
   "outputs": [],
   "source": [
    "import pandas as pd"
   ]
  },
  {
   "cell_type": "code",
   "execution_count": 42,
   "id": "debe2067",
   "metadata": {},
   "outputs": [],
   "source": [
    "dados = pd.read_csv('dados/aluguel_residencial.csv', sep=';')"
   ]
  },
  {
   "cell_type": "code",
   "execution_count": 43,
   "id": "4dd89793",
   "metadata": {},
   "outputs": [],
   "source": [
    "dados"
   ]
  },
  {
   "cell_type": "code",
   "execution_count": 44,
   "id": "2d5eb349",
   "metadata": {},
   "outputs": [],
   "source": [
    "# Selecione somente os imóveis classificados com tipo 'Apartamento'.\n",
    "selecao = dados ['Tipo'] == \"Apartamento\"\n",
    "selecao\n",
    "n1 = dados[selecao].shape[0]\n",
    "n1"
   ]
  },
  {
   "cell_type": "code",
   "execution_count": 45,
   "id": "89c107cb",
   "metadata": {},
   "outputs": [],
   "source": [
    "# Selecione os imóveis classificados com tipos 'Casa', \n",
    "#'Casa de Condomínio' e 'Casa de Vila'.\n",
    "#Selecione os imóveis classificados com tipos 'Casa', 'Casa de Condomínio' e 'Casa de Vila'.\n",
    "selecao = (dados['Tipo'] == 'Casa') | (dados['Tipo'] == 'Casa de Condomínio') | (dados['Tipo'] == 'Casa de Vila')\n",
    "selecao\n",
    "n2 = dados [selecao].shape[0]\n",
    "n2"
   ]
  },
  {
   "cell_type": "code",
   "execution_count": 46,
   "id": "76507f9e",
   "metadata": {},
   "outputs": [],
   "source": [
    "# Selecione os imóveis com área entre 60 e 100 metros quadrados,\n",
    "# incluindo os limites.\n",
    "# 60< area <100\n",
    "selecao = ( dados['Area']>=60 & (dados['Area']<=100))\n",
    "selecao\n",
    "n3 = dados[selecao].shape[0]\n",
    "n3"
   ]
  },
  {
   "cell_type": "code",
   "execution_count": 49,
   "id": "8775ae4a",
   "metadata": {},
   "outputs": [],
   "source": [
    "# Selecione os imóveis que tenham pelo menos 4 quartos e aluguel menor\n",
    "# que R$ 2.000,00.\n",
    "selecao = ((dados['Quartos'] >= 4) & (dados['Valor'] < 2000))\n",
    "selecao\n",
    "n4 = dados[selecao].shape[0]"
   ]
  },
  {
   "cell_type": "code",
   "execution_count": 50,
   "id": "05a4e7d8",
   "metadata": {},
   "outputs": [],
   "source": [
    "n4"
   ]
  },
  {
   "cell_type": "code",
   "execution_count": 51,
   "id": "4e4519b5",
   "metadata": {},
   "outputs": [],
   "source": [
    "print(\"Nº de imóveis classificados com tipo 'Apartamento' -> {}\".format(n1))\n",
    "print(\"Nº de imóveis classificados com tipos 'Casa', 'Casa de Condomínio' e 'Casa de Vila'-> {}\".format(n2))\n",
    "print(\"Nº de imóveis com área entre 60 e 100 metros quadrados, incluindo os limites -> {}\".format(n3))\n",
    "print(\"Nº de imóveis que tenham pelo menos 4 quartos e aluguel menor que R$ 2.000,00 -> {}\".format(n4))\n"
   ]
  },
  {
   "cell_type": "code",
   "execution_count": null,
   "id": "1bf14346",
   "metadata": {},
   "outputs": [],
   "source": []
  }
 ],
 "metadata": {
  "kernelspec": {
   "display_name": "Python 3 (ipykernel)",
   "language": "python",
   "name": "python3"
  },
  "language_info": {
   "codemirror_mode": {
    "name": "ipython",
    "version": 3
   },
   "file_extension": ".py",
   "mimetype": "text/x-python",
   "name": "python",
   "nbconvert_exporter": "python",
   "pygments_lexer": "ipython3",
   "version": "3.11.3"
  }
 },
 "nbformat": 4,
 "nbformat_minor": 5
}
